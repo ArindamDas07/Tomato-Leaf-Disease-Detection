{
 "cells": [
  {
   "cell_type": "code",
   "execution_count": 1,
   "id": "8946c3e7",
   "metadata": {},
   "outputs": [],
   "source": [
    "import numpy as np \n",
    "import pandas as pd \n",
    "import tensorflow as tf\n",
    "from tensorflow.keras import models, layers\n",
    "import matplotlib.pyplot as plt\n",
    "from tensorflow.keras.preprocessing.image import ImageDataGenerator\n",
    "import seaborn as sns"
   ]
  },
  {
   "cell_type": "code",
   "execution_count": 2,
   "id": "4bbd6ad0",
   "metadata": {},
   "outputs": [],
   "source": [
    "IMAGE_SIZE=28\n",
    "CHANNELS=3"
   ]
  },
  {
   "cell_type": "code",
   "execution_count": 3,
   "id": "cdc92f33",
   "metadata": {},
   "outputs": [
    {
     "name": "stdout",
     "output_type": "stream",
     "text": [
      "Found 18345 images belonging to 10 classes.\n"
     ]
    }
   ],
   "source": [
    "train_datagen = ImageDataGenerator(\n",
    "        rescale=1./255,\n",
    "        rotation_range=10,\n",
    "        horizontal_flip=True\n",
    ")\n",
    "train_generator = train_datagen.flow_from_directory(\n",
    "        'train',\n",
    "        target_size=(IMAGE_SIZE,IMAGE_SIZE),\n",
    "        batch_size=32,\n",
    "        class_mode=\"sparse\"\n",
    ")"
   ]
  },
  {
   "cell_type": "code",
   "execution_count": 4,
   "id": "07beb41f",
   "metadata": {},
   "outputs": [
    {
     "data": {
      "text/plain": [
       "{'Tomato___Bacterial_spot': 0,\n",
       " 'Tomato___Early_blight': 1,\n",
       " 'Tomato___Late_blight': 2,\n",
       " 'Tomato___Leaf_Mold': 3,\n",
       " 'Tomato___Septoria_leaf_spot': 4,\n",
       " 'Tomato___Spider_mites Two-spotted_spider_mite': 5,\n",
       " 'Tomato___Target_Spot': 6,\n",
       " 'Tomato___Tomato_Yellow_Leaf_Curl_Virus': 7,\n",
       " 'Tomato___Tomato_mosaic_virus': 8,\n",
       " 'Tomato___healthy': 9}"
      ]
     },
     "execution_count": 4,
     "metadata": {},
     "output_type": "execute_result"
    }
   ],
   "source": [
    "train_generator.class_indices"
   ]
  },
  {
   "cell_type": "code",
   "execution_count": 5,
   "id": "3d6fda47",
   "metadata": {},
   "outputs": [
    {
     "data": {
      "text/plain": [
       "['Tomato___Bacterial_spot',\n",
       " 'Tomato___Early_blight',\n",
       " 'Tomato___Late_blight',\n",
       " 'Tomato___Leaf_Mold',\n",
       " 'Tomato___Septoria_leaf_spot',\n",
       " 'Tomato___Spider_mites Two-spotted_spider_mite',\n",
       " 'Tomato___Target_Spot',\n",
       " 'Tomato___Tomato_Yellow_Leaf_Curl_Virus',\n",
       " 'Tomato___Tomato_mosaic_virus',\n",
       " 'Tomato___healthy']"
      ]
     },
     "execution_count": 5,
     "metadata": {},
     "output_type": "execute_result"
    }
   ],
   "source": [
    "class_names = list(train_generator.class_indices.keys())\n",
    "class_names"
   ]
  },
  {
   "cell_type": "code",
   "execution_count": 6,
   "id": "a5ea7b1b",
   "metadata": {},
   "outputs": [
    {
     "name": "stdout",
     "output_type": "stream",
     "text": [
      "[4. 8. 8. 8. 3. 3. 9. 2. 6. 1. 2. 5. 4. 7. 2. 2. 9. 9. 2. 0. 9. 7. 9. 7.\n",
      " 6. 9. 2. 2. 2. 2. 6. 1.]\n",
      "[[[0.44546574 0.41801476 0.53958344]\n",
      "  [0.41598383 0.38853285 0.5101015 ]\n",
      "  [0.43785167 0.4104007  0.5319693 ]\n",
      "  ...\n",
      "  [0.46003374 0.42319313 0.52907544]\n",
      "  [0.38767007 0.35038376 0.45626613]\n",
      "  [0.37964815 0.34191617 0.44779855]]\n",
      "\n",
      " [[0.4579443  0.4304933  0.5520619 ]\n",
      "  [0.4137555  0.3863045  0.5078731 ]\n",
      "  [0.43517768 0.4077267  0.5292953 ]\n",
      "  ...\n",
      "  [0.44246835 0.40325266 0.509135  ]\n",
      "  [0.40997782 0.37076214 0.47664452]\n",
      "  [0.42290205 0.38368636 0.48956874]]\n",
      "\n",
      " [[0.44905508 0.4216041  0.5431727 ]\n",
      "  [0.40896264 0.38151166 0.5030803 ]\n",
      "  [0.45130754 0.42385656 0.54542524]\n",
      "  ...\n",
      "  [0.39464885 0.35543317 0.4583241 ]\n",
      "  [0.42978057 0.3905649  0.49256447]\n",
      "  [0.421313   0.3820973  0.4832056 ]]\n",
      "\n",
      " ...\n",
      "\n",
      " [[0.651492   0.62011945 0.7024724 ]\n",
      "  [0.65505725 0.6236847  0.7060377 ]\n",
      "  [0.6663795  0.6350069  0.7173599 ]\n",
      "  ...\n",
      "  [0.6348636  0.61917734 0.7093734 ]\n",
      "  [0.6225921  0.6069058  0.7019028 ]\n",
      "  [0.61357456 0.5978883  0.6959275 ]]\n",
      "\n",
      " [[0.6600244  0.63317925 0.7170413 ]\n",
      "  [0.65690476 0.6313966  0.7157043 ]\n",
      "  [0.65807474 0.63390356 0.718657  ]\n",
      "  ...\n",
      "  [0.63513887 0.6194526  0.70964867]\n",
      "  [0.61960787 0.6039216  0.6980273 ]\n",
      "  [0.6157491  0.60006285 0.6981021 ]]\n",
      "\n",
      " [[0.6297838  0.61017597 0.6964505 ]\n",
      "  [0.62577283 0.606165   0.6924395 ]\n",
      "  [0.6340871  0.61447924 0.70075375]\n",
      "  ...\n",
      "  [0.6387042  0.6230179  0.713214  ]\n",
      "  [0.61960787 0.6039216  0.6971359 ]\n",
      "  [0.61664045 0.6009542  0.6989934 ]]]\n"
     ]
    }
   ],
   "source": [
    "for image_batch, label_batch in train_generator:\n",
    "    print(label_batch)\n",
    "    print(image_batch[0])\n",
    "    break"
   ]
  },
  {
   "cell_type": "code",
   "execution_count": 7,
   "id": "90bd4ecf",
   "metadata": {},
   "outputs": [
    {
     "name": "stdout",
     "output_type": "stream",
     "text": [
      "Found 4585 images belonging to 10 classes.\n"
     ]
    }
   ],
   "source": [
    "validation_datagen = ImageDataGenerator(\n",
    "        rescale=1./255,\n",
    "        rotation_range=10,\n",
    "        horizontal_flip=True)\n",
    "validation_generator = validation_datagen.flow_from_directory(\n",
    "        'valid',\n",
    "        target_size=(IMAGE_SIZE,IMAGE_SIZE),\n",
    "        batch_size=32,\n",
    "        class_mode=\"sparse\"\n",
    ")"
   ]
  },
  {
   "cell_type": "code",
   "execution_count": 8,
   "id": "e39a79ca",
   "metadata": {},
   "outputs": [
    {
     "name": "stdout",
     "output_type": "stream",
     "text": [
      "Found 50 images belonging to 10 classes.\n"
     ]
    }
   ],
   "source": [
    "test_datagen = ImageDataGenerator(\n",
    "        rescale=1./255,\n",
    "        rotation_range=10,\n",
    "        horizontal_flip=True)\n",
    "\n",
    "test_generator = test_datagen.flow_from_directory(\n",
    "        'test',\n",
    "        target_size=(IMAGE_SIZE,IMAGE_SIZE),\n",
    "        batch_size=32,\n",
    "        class_mode=\"sparse\"\n",
    ")"
   ]
  },
  {
   "cell_type": "code",
   "execution_count": 9,
   "id": "29d51a92",
   "metadata": {},
   "outputs": [],
   "source": [
    "input_shape = (IMAGE_SIZE, IMAGE_SIZE, CHANNELS)\n",
    "n_classes = 10\n",
    "\n",
    "model = models.Sequential([\n",
    "    \n",
    "    layers.BatchNormalization(input_shape=input_shape),\n",
    "    \n",
    "    layers.Conv2D(32, kernel_size = (5,5), padding='same', activation='relu'),\n",
    "    layers.MaxPooling2D((2, 2)),\n",
    "    \n",
    "    layers.BatchNormalization(),\n",
    "    layers.Conv2D(64,  kernel_size = (3,3),padding='same', activation='relu'),\n",
    "    layers.MaxPooling2D((2, 2)),\n",
    "    \n",
    "    layers.BatchNormalization(),\n",
    "    layers.Conv2D(64,  kernel_size = (3,3),padding='same',activation='relu'),\n",
    "    layers.MaxPooling2D((2, 2)),\n",
    "    \n",
    "    layers.Flatten(),\n",
    "    layers.BatchNormalization(),\n",
    "    layers.Dense(64, activation='relu'),\n",
    "    \n",
    "    layers.Dropout(0.33),\n",
    "    layers.BatchNormalization(),\n",
    "    layers.Dense(n_classes, activation='softmax'),\n",
    "])\n",
    "\n",
    "model.compile(\n",
    "    optimizer='adam',\n",
    "    loss=tf.keras.losses.SparseCategoricalCrossentropy(from_logits=False),\n",
    "    metrics=['accuracy']\n",
    ")"
   ]
  },
  {
   "cell_type": "code",
   "execution_count": 10,
   "id": "876aa2c0",
   "metadata": {},
   "outputs": [
    {
     "name": "stdout",
     "output_type": "stream",
     "text": [
      "Model: \"sequential\"\n",
      "_________________________________________________________________\n",
      " Layer (type)                Output Shape              Param #   \n",
      "=================================================================\n",
      " batch_normalization (Batch  (None, 28, 28, 3)         12        \n",
      " Normalization)                                                  \n",
      "                                                                 \n",
      " conv2d (Conv2D)             (None, 28, 28, 32)        2432      \n",
      "                                                                 \n",
      " max_pooling2d (MaxPooling2  (None, 14, 14, 32)        0         \n",
      " D)                                                              \n",
      "                                                                 \n",
      " batch_normalization_1 (Bat  (None, 14, 14, 32)        128       \n",
      " chNormalization)                                                \n",
      "                                                                 \n",
      " conv2d_1 (Conv2D)           (None, 14, 14, 64)        18496     \n",
      "                                                                 \n",
      " max_pooling2d_1 (MaxPoolin  (None, 7, 7, 64)          0         \n",
      " g2D)                                                            \n",
      "                                                                 \n",
      " batch_normalization_2 (Bat  (None, 7, 7, 64)          256       \n",
      " chNormalization)                                                \n",
      "                                                                 \n",
      " conv2d_2 (Conv2D)           (None, 7, 7, 64)          36928     \n",
      "                                                                 \n",
      " max_pooling2d_2 (MaxPoolin  (None, 3, 3, 64)          0         \n",
      " g2D)                                                            \n",
      "                                                                 \n",
      " flatten (Flatten)           (None, 576)               0         \n",
      "                                                                 \n",
      " batch_normalization_3 (Bat  (None, 576)               2304      \n",
      " chNormalization)                                                \n",
      "                                                                 \n",
      " dense (Dense)               (None, 64)                36928     \n",
      "                                                                 \n",
      " dropout (Dropout)           (None, 64)                0         \n",
      "                                                                 \n",
      " batch_normalization_4 (Bat  (None, 64)                256       \n",
      " chNormalization)                                                \n",
      "                                                                 \n",
      " dense_1 (Dense)             (None, 10)                650       \n",
      "                                                                 \n",
      "=================================================================\n",
      "Total params: 98390 (384.34 KB)\n",
      "Trainable params: 96912 (378.56 KB)\n",
      "Non-trainable params: 1478 (5.77 KB)\n",
      "_________________________________________________________________\n"
     ]
    }
   ],
   "source": [
    "model.summary()"
   ]
  },
  {
   "cell_type": "code",
   "execution_count": 11,
   "id": "5843a3ac",
   "metadata": {},
   "outputs": [],
   "source": [
    "#### Early stopping for preventing Overfitting\n",
    "early_stopping=tf.keras.callbacks.EarlyStopping(\n",
    "    monitor=\"val_loss\",\n",
    "    min_delta=0.0001,\n",
    "    patience=3,\n",
    "    verbose=0,\n",
    "    mode=\"auto\",\n",
    "    baseline=None,\n",
    "    restore_best_weights=False,\n",
    "    start_from_epoch=0,\n",
    ")"
   ]
  },
  {
   "cell_type": "code",
   "execution_count": 12,
   "id": "52c8988b",
   "metadata": {},
   "outputs": [
    {
     "name": "stdout",
     "output_type": "stream",
     "text": [
      "Epoch 1/150\n",
      "574/574 [==============================] - 178s 303ms/step - loss: 1.0891 - accuracy: 0.6286 - val_loss: 0.5731 - val_accuracy: 0.8107\n",
      "Epoch 2/150\n",
      "574/574 [==============================] - 149s 259ms/step - loss: 0.6538 - accuracy: 0.7800 - val_loss: 0.4413 - val_accuracy: 0.8458\n",
      "Epoch 3/150\n",
      "574/574 [==============================] - 139s 242ms/step - loss: 0.5448 - accuracy: 0.8159 - val_loss: 0.4392 - val_accuracy: 0.8517\n",
      "Epoch 4/150\n",
      "574/574 [==============================] - 145s 253ms/step - loss: 0.4718 - accuracy: 0.8412 - val_loss: 0.3043 - val_accuracy: 0.8901\n",
      "Epoch 5/150\n",
      "574/574 [==============================] - 139s 242ms/step - loss: 0.4244 - accuracy: 0.8544 - val_loss: 0.2690 - val_accuracy: 0.9088\n",
      "Epoch 6/150\n",
      "574/574 [==============================] - 133s 231ms/step - loss: 0.3815 - accuracy: 0.8701 - val_loss: 0.2899 - val_accuracy: 0.8984\n",
      "Epoch 7/150\n",
      "574/574 [==============================] - 133s 231ms/step - loss: 0.3642 - accuracy: 0.8744 - val_loss: 0.3200 - val_accuracy: 0.8903\n",
      "Epoch 8/150\n",
      "574/574 [==============================] - 131s 228ms/step - loss: 0.3300 - accuracy: 0.8870 - val_loss: 0.2629 - val_accuracy: 0.9084\n",
      "Epoch 9/150\n",
      "574/574 [==============================] - 132s 230ms/step - loss: 0.3161 - accuracy: 0.8907 - val_loss: 0.2387 - val_accuracy: 0.9167\n",
      "Epoch 10/150\n",
      "574/574 [==============================] - 132s 230ms/step - loss: 0.2838 - accuracy: 0.9030 - val_loss: 0.2550 - val_accuracy: 0.9149\n",
      "Epoch 11/150\n",
      "574/574 [==============================] - 133s 232ms/step - loss: 0.2923 - accuracy: 0.9013 - val_loss: 0.2267 - val_accuracy: 0.9193\n",
      "Epoch 12/150\n",
      "574/574 [==============================] - 136s 237ms/step - loss: 0.2647 - accuracy: 0.9104 - val_loss: 0.1771 - val_accuracy: 0.9398\n",
      "Epoch 13/150\n",
      "574/574 [==============================] - 133s 231ms/step - loss: 0.2578 - accuracy: 0.9117 - val_loss: 0.2056 - val_accuracy: 0.9274\n",
      "Epoch 14/150\n",
      "574/574 [==============================] - 127s 221ms/step - loss: 0.2415 - accuracy: 0.9176 - val_loss: 0.2039 - val_accuracy: 0.9261\n",
      "Epoch 15/150\n",
      "574/574 [==============================] - 122s 212ms/step - loss: 0.2327 - accuracy: 0.9200 - val_loss: 0.1407 - val_accuracy: 0.9511\n",
      "Epoch 16/150\n",
      "574/574 [==============================] - 122s 212ms/step - loss: 0.2319 - accuracy: 0.9192 - val_loss: 0.1287 - val_accuracy: 0.9581\n",
      "Epoch 17/150\n",
      "574/574 [==============================] - 122s 212ms/step - loss: 0.2110 - accuracy: 0.9274 - val_loss: 0.2136 - val_accuracy: 0.9300\n",
      "Epoch 18/150\n",
      "574/574 [==============================] - 122s 212ms/step - loss: 0.2067 - accuracy: 0.9303 - val_loss: 0.1682 - val_accuracy: 0.9385\n",
      "Epoch 19/150\n",
      "574/574 [==============================] - 122s 212ms/step - loss: 0.1953 - accuracy: 0.9344 - val_loss: 0.1534 - val_accuracy: 0.9442\n"
     ]
    }
   ],
   "source": [
    "model_history=model.fit(train_generator,\n",
    "                        validation_data=validation_generator,batch_size=32,\n",
    "                        epochs=150,callbacks=early_stopping)"
   ]
  },
  {
   "cell_type": "code",
   "execution_count": 13,
   "id": "ad99fcde",
   "metadata": {},
   "outputs": [],
   "source": [
    "acc = model_history.history['accuracy']\n",
    "val_acc = model_history.history['val_accuracy']\n",
    "\n",
    "loss = model_history.history['loss']\n",
    "val_loss = model_history.history['val_loss']"
   ]
  },
  {
   "cell_type": "code",
   "execution_count": 14,
   "id": "ba959b4c",
   "metadata": {},
   "outputs": [
    {
     "data": {
      "image/png": "[encoded data removed]",
      "text/plain": [
       "<Figure size 800x800 with 2 Axes>"
      ]
     },
     "metadata": {},
     "output_type": "display_data"
    }
   ],
   "source": [
    "EPOCH=19\n",
    "plt.figure(figsize=(8, 8))\n",
    "plt.subplot(1, 2, 1)\n",
    "plt.plot(range(EPOCH), acc, label='Training Accuracy')\n",
    "plt.plot(range(EPOCH), val_acc, label='Validation Accuracy')\n",
    "plt.legend(loc='lower right')\n",
    "plt.title('Training and Validation Accuracy')\n",
    "\n",
    "plt.subplot(1, 2, 2)\n",
    "plt.plot(range(EPOCH), loss, label='Training Loss')\n",
    "plt.plot(range(EPOCH), val_loss, label='Validation Loss')\n",
    "plt.legend(loc='upper right')\n",
    "plt.title('Training and Validation Loss')\n",
    "plt.show()"
   ]
  },
  {
   "cell_type": "raw",
   "id": "4d6b8b24",
   "metadata": {},
   "source": [
    "We use early_stopping it simply prevents the model from overfitting. We have set our epoch =150 but as per our early_stopping, it stops after the 19th epoch."
   ]
  },
  {
   "cell_type": "code",
   "execution_count": 15,
   "id": "61cceb11",
   "metadata": {},
   "outputs": [
    {
     "name": "stdout",
     "output_type": "stream",
     "text": [
      "2/2 [==============================] - 0s 80ms/step - loss: 0.1338 - accuracy: 0.9400\n"
     ]
    },
    {
     "data": {
      "text/plain": [
       "[0.1338476985692978, 0.9399999976158142]"
      ]
     },
     "execution_count": 15,
     "metadata": {},
     "output_type": "execute_result"
    }
   ],
   "source": [
    "model.evaluate(test_generator)"
   ]
  },
  {
   "cell_type": "raw",
   "id": "cdb3cb76",
   "metadata": {},
   "source": [
    "Our model accuracy on the training dataset is 94%."
   ]
  },
  {
   "cell_type": "code",
   "execution_count": 16,
   "id": "1ccb5370",
   "metadata": {},
   "outputs": [],
   "source": [
    "test_labels=[]\n",
    "test_image=[]\n",
    "for image_batch, label_batch in test_generator:\n",
    "    test_labels.append(label_batch)\n",
    "    test_image.append(image_batch)\n",
    "    break"
   ]
  },
  {
   "cell_type": "code",
   "execution_count": 17,
   "id": "286bb95c",
   "metadata": {},
   "outputs": [
    {
     "name": "stdout",
     "output_type": "stream",
     "text": [
      "1/1 [==============================] - 0s 374ms/step\n"
     ]
    }
   ],
   "source": [
    "predictions = model.predict(test_image)\n",
    "predicted_label = [class_names[np.argmax(element)] for element in predictions]\n",
    "\n",
    "actual_test_label = []\n",
    "for element in test_labels:\n",
    "    for i in range(len(predictions)):\n",
    "         actual_test_label.append(class_names[int(element[i])])     "
   ]
  },
  {
   "cell_type": "code",
   "execution_count": 18,
   "id": "fefffb5e",
   "metadata": {},
   "outputs": [
    {
     "data": {
      "text/html": [
       "<div>\n",
       "<style scoped>\n",
       "    .dataframe tbody tr th:only-of-type {\n",
       "        vertical-align: middle;\n",
       "    }\n",
       "\n",
       "    .dataframe tbody tr th {\n",
       "        vertical-align: top;\n",
       "    }\n",
       "\n",
       "    .dataframe thead th {\n",
       "        text-align: right;\n",
       "    }\n",
       "</style>\n",
       "<table border=\"1\" class=\"dataframe\">\n",
       "  <thead>\n",
       "    <tr style=\"text-align: right;\">\n",
       "      <th></th>\n",
       "      <th>Actual</th>\n",
       "      <th>Predictions</th>\n",
       "    </tr>\n",
       "  </thead>\n",
       "  <tbody>\n",
       "    <tr>\n",
       "      <th>0</th>\n",
       "      <td>Tomato___Spider_mites Two-spotted_spider_mite</td>\n",
       "      <td>Tomato___Spider_mites Two-spotted_spider_mite</td>\n",
       "    </tr>\n",
       "    <tr>\n",
       "      <th>1</th>\n",
       "      <td>Tomato___Bacterial_spot</td>\n",
       "      <td>Tomato___Bacterial_spot</td>\n",
       "    </tr>\n",
       "    <tr>\n",
       "      <th>2</th>\n",
       "      <td>Tomato___healthy</td>\n",
       "      <td>Tomato___healthy</td>\n",
       "    </tr>\n",
       "    <tr>\n",
       "      <th>3</th>\n",
       "      <td>Tomato___Early_blight</td>\n",
       "      <td>Tomato___Early_blight</td>\n",
       "    </tr>\n",
       "    <tr>\n",
       "      <th>4</th>\n",
       "      <td>Tomato___Spider_mites Two-spotted_spider_mite</td>\n",
       "      <td>Tomato___Spider_mites Two-spotted_spider_mite</td>\n",
       "    </tr>\n",
       "    <tr>\n",
       "      <th>5</th>\n",
       "      <td>Tomato___Target_Spot</td>\n",
       "      <td>Tomato___Target_Spot</td>\n",
       "    </tr>\n",
       "    <tr>\n",
       "      <th>6</th>\n",
       "      <td>Tomato___Target_Spot</td>\n",
       "      <td>Tomato___Target_Spot</td>\n",
       "    </tr>\n",
       "    <tr>\n",
       "      <th>7</th>\n",
       "      <td>Tomato___Early_blight</td>\n",
       "      <td>Tomato___Early_blight</td>\n",
       "    </tr>\n",
       "    <tr>\n",
       "      <th>8</th>\n",
       "      <td>Tomato___Septoria_leaf_spot</td>\n",
       "      <td>Tomato___Septoria_leaf_spot</td>\n",
       "    </tr>\n",
       "    <tr>\n",
       "      <th>9</th>\n",
       "      <td>Tomato___Leaf_Mold</td>\n",
       "      <td>Tomato___Leaf_Mold</td>\n",
       "    </tr>\n",
       "    <tr>\n",
       "      <th>10</th>\n",
       "      <td>Tomato___healthy</td>\n",
       "      <td>Tomato___healthy</td>\n",
       "    </tr>\n",
       "    <tr>\n",
       "      <th>11</th>\n",
       "      <td>Tomato___Bacterial_spot</td>\n",
       "      <td>Tomato___Bacterial_spot</td>\n",
       "    </tr>\n",
       "    <tr>\n",
       "      <th>12</th>\n",
       "      <td>Tomato___Tomato_Yellow_Leaf_Curl_Virus</td>\n",
       "      <td>Tomato___Tomato_Yellow_Leaf_Curl_Virus</td>\n",
       "    </tr>\n",
       "    <tr>\n",
       "      <th>13</th>\n",
       "      <td>Tomato___Target_Spot</td>\n",
       "      <td>Tomato___Target_Spot</td>\n",
       "    </tr>\n",
       "    <tr>\n",
       "      <th>14</th>\n",
       "      <td>Tomato___Septoria_leaf_spot</td>\n",
       "      <td>Tomato___Septoria_leaf_spot</td>\n",
       "    </tr>\n",
       "    <tr>\n",
       "      <th>15</th>\n",
       "      <td>Tomato___healthy</td>\n",
       "      <td>Tomato___healthy</td>\n",
       "    </tr>\n",
       "    <tr>\n",
       "      <th>16</th>\n",
       "      <td>Tomato___Leaf_Mold</td>\n",
       "      <td>Tomato___Leaf_Mold</td>\n",
       "    </tr>\n",
       "    <tr>\n",
       "      <th>17</th>\n",
       "      <td>Tomato___Leaf_Mold</td>\n",
       "      <td>Tomato___Leaf_Mold</td>\n",
       "    </tr>\n",
       "    <tr>\n",
       "      <th>18</th>\n",
       "      <td>Tomato___healthy</td>\n",
       "      <td>Tomato___healthy</td>\n",
       "    </tr>\n",
       "    <tr>\n",
       "      <th>19</th>\n",
       "      <td>Tomato___Tomato_mosaic_virus</td>\n",
       "      <td>Tomato___Tomato_mosaic_virus</td>\n",
       "    </tr>\n",
       "    <tr>\n",
       "      <th>20</th>\n",
       "      <td>Tomato___Tomato_Yellow_Leaf_Curl_Virus</td>\n",
       "      <td>Tomato___Tomato_Yellow_Leaf_Curl_Virus</td>\n",
       "    </tr>\n",
       "    <tr>\n",
       "      <th>21</th>\n",
       "      <td>Tomato___Late_blight</td>\n",
       "      <td>Tomato___Early_blight</td>\n",
       "    </tr>\n",
       "    <tr>\n",
       "      <th>22</th>\n",
       "      <td>Tomato___Spider_mites Two-spotted_spider_mite</td>\n",
       "      <td>Tomato___Spider_mites Two-spotted_spider_mite</td>\n",
       "    </tr>\n",
       "    <tr>\n",
       "      <th>23</th>\n",
       "      <td>Tomato___Early_blight</td>\n",
       "      <td>Tomato___Early_blight</td>\n",
       "    </tr>\n",
       "    <tr>\n",
       "      <th>24</th>\n",
       "      <td>Tomato___Leaf_Mold</td>\n",
       "      <td>Tomato___Leaf_Mold</td>\n",
       "    </tr>\n",
       "    <tr>\n",
       "      <th>25</th>\n",
       "      <td>Tomato___Early_blight</td>\n",
       "      <td>Tomato___Spider_mites Two-spotted_spider_mite</td>\n",
       "    </tr>\n",
       "    <tr>\n",
       "      <th>26</th>\n",
       "      <td>Tomato___Tomato_mosaic_virus</td>\n",
       "      <td>Tomato___Tomato_mosaic_virus</td>\n",
       "    </tr>\n",
       "    <tr>\n",
       "      <th>27</th>\n",
       "      <td>Tomato___healthy</td>\n",
       "      <td>Tomato___healthy</td>\n",
       "    </tr>\n",
       "    <tr>\n",
       "      <th>28</th>\n",
       "      <td>Tomato___Tomato_Yellow_Leaf_Curl_Virus</td>\n",
       "      <td>Tomato___Tomato_Yellow_Leaf_Curl_Virus</td>\n",
       "    </tr>\n",
       "    <tr>\n",
       "      <th>29</th>\n",
       "      <td>Tomato___Late_blight</td>\n",
       "      <td>Tomato___Late_blight</td>\n",
       "    </tr>\n",
       "    <tr>\n",
       "      <th>30</th>\n",
       "      <td>Tomato___Spider_mites Two-spotted_spider_mite</td>\n",
       "      <td>Tomato___Spider_mites Two-spotted_spider_mite</td>\n",
       "    </tr>\n",
       "    <tr>\n",
       "      <th>31</th>\n",
       "      <td>Tomato___Late_blight</td>\n",
       "      <td>Tomato___Late_blight</td>\n",
       "    </tr>\n",
       "  </tbody>\n",
       "</table>\n",
       "</div>"
      ],
      "text/plain": [
       "                                           Actual  \\\n",
       "0   Tomato___Spider_mites Two-spotted_spider_mite   \n",
       "1                         Tomato___Bacterial_spot   \n",
       "2                                Tomato___healthy   \n",
       "3                           Tomato___Early_blight   \n",
       "4   Tomato___Spider_mites Two-spotted_spider_mite   \n",
       "5                            Tomato___Target_Spot   \n",
       "6                            Tomato___Target_Spot   \n",
       "7                           Tomato___Early_blight   \n",
       "8                     Tomato___Septoria_leaf_spot   \n",
       "9                              Tomato___Leaf_Mold   \n",
       "10                               Tomato___healthy   \n",
       "11                        Tomato___Bacterial_spot   \n",
       "12         Tomato___Tomato_Yellow_Leaf_Curl_Virus   \n",
       "13                           Tomato___Target_Spot   \n",
       "14                    Tomato___Septoria_leaf_spot   \n",
       "15                               Tomato___healthy   \n",
       "16                             Tomato___Leaf_Mold   \n",
       "17                             Tomato___Leaf_Mold   \n",
       "18                               Tomato___healthy   \n",
       "19                   Tomato___Tomato_mosaic_virus   \n",
       "20         Tomato___Tomato_Yellow_Leaf_Curl_Virus   \n",
       "21                           Tomato___Late_blight   \n",
       "22  Tomato___Spider_mites Two-spotted_spider_mite   \n",
       "23                          Tomato___Early_blight   \n",
       "24                             Tomato___Leaf_Mold   \n",
       "25                          Tomato___Early_blight   \n",
       "26                   Tomato___Tomato_mosaic_virus   \n",
       "27                               Tomato___healthy   \n",
       "28         Tomato___Tomato_Yellow_Leaf_Curl_Virus   \n",
       "29                           Tomato___Late_blight   \n",
       "30  Tomato___Spider_mites Two-spotted_spider_mite   \n",
       "31                           Tomato___Late_blight   \n",
       "\n",
       "                                      Predictions  \n",
       "0   Tomato___Spider_mites Two-spotted_spider_mite  \n",
       "1                         Tomato___Bacterial_spot  \n",
       "2                                Tomato___healthy  \n",
       "3                           Tomato___Early_blight  \n",
       "4   Tomato___Spider_mites Two-spotted_spider_mite  \n",
       "5                            Tomato___Target_Spot  \n",
       "6                            Tomato___Target_Spot  \n",
       "7                           Tomato___Early_blight  \n",
       "8                     Tomato___Septoria_leaf_spot  \n",
       "9                              Tomato___Leaf_Mold  \n",
       "10                               Tomato___healthy  \n",
       "11                        Tomato___Bacterial_spot  \n",
       "12         Tomato___Tomato_Yellow_Leaf_Curl_Virus  \n",
       "13                           Tomato___Target_Spot  \n",
       "14                    Tomato___Septoria_leaf_spot  \n",
       "15                               Tomato___healthy  \n",
       "16                             Tomato___Leaf_Mold  \n",
       "17                             Tomato___Leaf_Mold  \n",
       "18                               Tomato___healthy  \n",
       "19                   Tomato___Tomato_mosaic_virus  \n",
       "20         Tomato___Tomato_Yellow_Leaf_Curl_Virus  \n",
       "21                          Tomato___Early_blight  \n",
       "22  Tomato___Spider_mites Two-spotted_spider_mite  \n",
       "23                          Tomato___Early_blight  \n",
       "24                             Tomato___Leaf_Mold  \n",
       "25  Tomato___Spider_mites Two-spotted_spider_mite  \n",
       "26                   Tomato___Tomato_mosaic_virus  \n",
       "27                               Tomato___healthy  \n",
       "28         Tomato___Tomato_Yellow_Leaf_Curl_Virus  \n",
       "29                           Tomato___Late_blight  \n",
       "30  Tomato___Spider_mites Two-spotted_spider_mite  \n",
       "31                           Tomato___Late_blight  "
      ]
     },
     "execution_count": 18,
     "metadata": {},
     "output_type": "execute_result"
    }
   ],
   "source": [
    "results=pd.DataFrame({\"Actual\":actual_test_label,\n",
    "                      \"Predictions\":predicted_label})\n",
    "results"
   ]
  },
  {
   "cell_type": "code",
   "execution_count": 21,
   "id": "faf1afee",
   "metadata": {},
   "outputs": [],
   "source": [
    "##Saving the model\n",
    "import os\n",
    "model.save(\"./Tomato_Leaf_Disease_Detection_model.h5\")"
   ]
  },
  {
   "cell_type": "code",
   "execution_count": null,
   "id": "db58efe9",
   "metadata": {},
   "outputs": [],
   "source": []
  }
 ],
 "metadata": {
  "kernelspec": {
   "display_name": "Python 3 (ipykernel)",
   "language": "python",
   "name": "python3"
  },
  "language_info": {
   "codemirror_mode": {
    "name": "ipython",
    "version": 3
   },
   "file_extension": ".py",
   "mimetype": "text/x-python",
   "name": "python",
   "nbconvert_exporter": "python",
   "pygments_lexer": "ipython3",
   "version": "3.11.4"
  }
 },
 "nbformat": 4,
 "nbformat_minor": 5
}
